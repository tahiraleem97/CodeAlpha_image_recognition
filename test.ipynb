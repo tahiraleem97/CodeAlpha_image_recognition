{
 "cells": [
  {
   "cell_type": "code",
   "execution_count": 10,
   "id": "07a0e496",
   "metadata": {},
   "outputs": [],
   "source": [
    "from sklearn.neighbors import KNeighborsClassifier\n",
    "import cv2\n",
    "import pickle\n",
    "import numpy as np\n",
    "import os\n",
    "import csv\n",
    "import time\n",
    "from datetime import datetime\n",
    "\n",
    "\n",
    "from win32com.client import Dispatch"
   ]
  },
  {
   "cell_type": "code",
   "execution_count": 11,
   "id": "336bae04",
   "metadata": {},
   "outputs": [],
   "source": [
    "def speak(str1):\n",
    "    speak=Dispatch((\"SAPI.SpVoice\"))\n",
    "    speak.Speak(str1)"
   ]
  },
  {
   "cell_type": "code",
   "execution_count": 16,
   "id": "74e14077",
   "metadata": {},
   "outputs": [
    {
     "ename": "AttributeError",
     "evalue": "'list' object has no attribute 'shape'",
     "output_type": "error",
     "traceback": [
      "\u001b[1;31m---------------------------------------------------------------------------\u001b[0m",
      "\u001b[1;31mAttributeError\u001b[0m                            Traceback (most recent call last)",
      "Cell \u001b[1;32mIn[16], line 9\u001b[0m\n\u001b[0;32m      6\u001b[0m \u001b[38;5;28;01mwith\u001b[39;00m \u001b[38;5;28mopen\u001b[39m(\u001b[38;5;124m'\u001b[39m\u001b[38;5;124mdata/faces.pkl\u001b[39m\u001b[38;5;124m'\u001b[39m, \u001b[38;5;124m'\u001b[39m\u001b[38;5;124mrb\u001b[39m\u001b[38;5;124m'\u001b[39m) \u001b[38;5;28;01mas\u001b[39;00m f:\n\u001b[0;32m      7\u001b[0m     FACES\u001b[38;5;241m=\u001b[39mpickle\u001b[38;5;241m.\u001b[39mload(f)\n\u001b[1;32m----> 9\u001b[0m \u001b[38;5;28mprint\u001b[39m(\u001b[38;5;124m'\u001b[39m\u001b[38;5;124mShape of Faces matrix --> \u001b[39m\u001b[38;5;124m'\u001b[39m, FACES\u001b[38;5;241m.\u001b[39mshape)\n",
      "\u001b[1;31mAttributeError\u001b[0m: 'list' object has no attribute 'shape'"
     ]
    }
   ],
   "source": [
    "video=cv2.VideoCapture(0)\n",
    "facedetect=cv2.CascadeClassifier('haarcascade_frontalface_default.xml')\n",
    "\n",
    "with open('data/names.pkl', 'rb') as f:\n",
    "    LABELS=pickle.load(f)\n",
    "with open('data/faces.pkl', 'rb') as f:\n",
    "    FACES=pickle.load(f)\n",
    "\n",
    "print('Shape of Faces matrix --> ', FACES.shape)"
   ]
  },
  {
   "cell_type": "code",
   "execution_count": null,
   "id": "74f67a6f",
   "metadata": {},
   "outputs": [],
   "source": [
    "knn=KNeighborsClassifier(n_neighbors=5)\n",
    "knn.fit(FACES, LABELS)"
   ]
  },
  {
   "cell_type": "code",
   "execution_count": null,
   "id": "4d1ffdd1",
   "metadata": {},
   "outputs": [],
   "source": [
    "imgBackground=cv2.imread(\"background.png\")\n",
    "\n",
    "COL_NAMES = ['NAME', 'TIME']\n",
    "\n",
    "while True:\n",
    "    ret,frame=video.read()\n",
    "    gray=cv2.cvtColor(frame, cv2.COLOR_BGR2GRAY)\n",
    "    faces=facedetect.detectMultiScale(gray, 1.3 ,5)\n",
    "    for (x,y,w,h) in faces:\n",
    "        crop_img=frame[y:y+h, x:x+w, :]\n",
    "        resized_img=cv2.resize(crop_img, (50,50)).flatten().reshape(1,-1)\n",
    "        output=knn.predict(resized_img)\n",
    "        ts=time.time()\n",
    "        date=datetime.fromtimestamp(ts).strftime(\"%d-%m-%Y\")\n",
    "        timestamp=datetime.fromtimestamp(ts).strftime(\"%H:%M-%S\")\n",
    "        exist=os.path.isfile(\"Attendance/Attendance_\" + date + \".csv\")\n",
    "        cv2.rectangle(frame, (x,y), (x+w, y+h), (0,0,255), 1)\n",
    "        cv2.rectangle(frame,(x,y),(x+w,y+h),(50,50,255),2)\n",
    "        cv2.rectangle(frame,(x,y-40),(x+w,y),(50,50,255),-1)\n",
    "        cv2.putText(frame, str(output[0]), (x,y-15), cv2.FONT_HERSHEY_COMPLEX, 1, (255,255,255), 1)\n",
    "        cv2.rectangle(frame, (x,y), (x+w, y+h), (50,50,255), 1)\n",
    "        attendance=[str(output[0]), str(timestamp)]\n",
    "    imgBackground[162:162 + 480, 55:55 + 640] = frame\n",
    "    cv2.imshow(\"Frame\",imgBackground)\n",
    "    k=cv2.waitKey(1)\n",
    "    if k==ord('o'):\n",
    "        speak(\"Attendance Taken..\")\n",
    "        time.sleep(5)\n",
    "        if exist:\n",
    "            with open(\"Attendance/Attendance_\" + date + \".csv\", \"+a\") as csvfile:\n",
    "                writer=csv.writer(csvfile)\n",
    "                writer.writerow(attendance)\n",
    "            csvfile.close()\n",
    "        else:\n",
    "            with open(\"Attendance/Attendance_\" + date + \".csv\", \"+a\") as csvfile:\n",
    "                writer=csv.writer(csvfile)\n",
    "                writer.writerow(COL_NAMES)\n",
    "                writer.writerow(attendance)\n",
    "            csvfile.close()\n",
    "    if k==ord('c'):\n",
    "        break\n",
    "video.release()\n",
    "cv2.destroyAllWindows()"
   ]
  }
 ],
 "metadata": {
  "kernelspec": {
   "display_name": "Python 3 (ipykernel)",
   "language": "python",
   "name": "python3"
  },
  "language_info": {
   "codemirror_mode": {
    "name": "ipython",
    "version": 3
   },
   "file_extension": ".py",
   "mimetype": "text/x-python",
   "name": "python",
   "nbconvert_exporter": "python",
   "pygments_lexer": "ipython3",
   "version": "3.11.5"
  }
 },
 "nbformat": 4,
 "nbformat_minor": 5
}
