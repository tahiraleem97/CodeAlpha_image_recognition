{
 "cells": [
  {
   "cell_type": "markdown",
   "id": "202d7bc0",
   "metadata": {},
   "source": [
    "# importing neccessary libraries"
   ]
  },
  {
   "cell_type": "code",
   "execution_count": 14,
   "id": "2110f67c",
   "metadata": {},
   "outputs": [],
   "source": [
    "import cv2\n",
    "import pickle\n",
    "import numpy as np\n",
    "import os"
   ]
  },
  {
   "cell_type": "code",
   "execution_count": 5,
   "id": "50302f39",
   "metadata": {},
   "outputs": [],
   "source": [
    "#video_capture = cv2.VideoCapture(0)\n",
    "#while True:\n",
    "#    ret , video = video_capture.read()\n",
    "#    cv2.imshow(\"face Recognition\", video)\n",
    "#    if cv2.waitKey(5) == ord(\"c\"):\n",
    "#        break\n",
    "#video_capture.release()"
   ]
  },
  {
   "cell_type": "code",
   "execution_count": 20,
   "id": "ed5ffd85",
   "metadata": {},
   "outputs": [
    {
     "name": "stdout",
     "output_type": "stream",
     "text": [
      "Enter your name : Tahir\n"
     ]
    }
   ],
   "source": [
    "name = input(\"Enter your name : \")"
   ]
  },
  {
   "cell_type": "markdown",
   "id": "98197f39",
   "metadata": {},
   "source": [
    "# capturing faces and recording them"
   ]
  },
  {
   "cell_type": "raw",
   "id": "ddf71dbc",
   "metadata": {},
   "source": [
    "face_capture = cv2.CascadeClassifier(\"haarcascade_frontalface_default.xml\")\n",
    "video_capture = cv2.VideoCapture(0)\n",
    "face_record = []\n",
    "i = 0\n",
    "\n",
    "\n",
    "while True:\n",
    "    ret , video_frame = video_capture.read()\n",
    "    gray_scale = cv2.cvtColor(video_frame, cv2.COLOR_BGR2GRAY)\n",
    "    faces = face_capture.detectMultiScale(\n",
    "        gray_scale,\n",
    "        scaleFactor = 1.1,\n",
    "        minNeighbors = 5,\n",
    "        minSize = (30, 30),\n",
    "        flags = cv2.CASCADE_SCALE_IMAGE\n",
    "    )\n",
    "    \n",
    "    for x, y, w, h in faces:\n",
    "        crop_img = video_frame[y:y+h, x:x+w, :]\n",
    "        resized_img = cv2.resize(crop_img, (50, 50))\n",
    "        if len(face_record)<=100 and i%10==0:\n",
    "            face_record.append(resized_img)\n",
    "        i = i+1\n",
    "        cv2.putText(video_frame, str(len(face_record)), (50, 50), cv2.FONT_HERSHEY_COMPLEX, 1, (50, 50, 255), 1)\n",
    "        cv2.rectangle(video_frame, (x,y), (x+w, y+h), (0, 255, 0), 2)\n",
    "    cv2.imshow(\"Face Recognition\", video_frame)\n",
    "    if cv2.waitKey(1) == ord(\"c\") or len(face_record) == 100:\n",
    "        break\n",
    "video_capture.release()\n",
    "cv2.destroyAllWindows()"
   ]
  },
  {
   "cell_type": "code",
   "execution_count": 25,
   "id": "967276ab",
   "metadata": {},
   "outputs": [],
   "source": [
    "video=cv2.VideoCapture(0)\n",
    "facedetect=cv2.CascadeClassifier('haarcascade_frontalface_default.xml')\n",
    "\n",
    "faces_data=[]\n",
    "\n",
    "i=0\n",
    "\n",
    "#name=input(\"Enter Your Name: \")\n",
    "\n",
    "while True:\n",
    "    ret,frame=video.read()\n",
    "    gray=cv2.cvtColor(frame, cv2.COLOR_BGR2GRAY)\n",
    "    faces=facedetect.detectMultiScale(gray, 1.3 ,5)\n",
    "    for (x,y,w,h) in faces:\n",
    "        crop_img=frame[y:y+h, x:x+w, :]\n",
    "        resized_img=cv2.resize(crop_img, (50,50))\n",
    "        if len(faces_data)<=100 and i%10==0:\n",
    "            faces_data.append(resized_img)\n",
    "        i=i+1\n",
    "        cv2.putText(frame, str(len(faces_data)), (50,50), cv2.FONT_HERSHEY_COMPLEX, 1, (50,50,255), 1)\n",
    "        cv2.rectangle(frame, (x,y), (x+w, y+h), (50,50,255), 1)\n",
    "    cv2.imshow(\"Frame\",frame)\n",
    "    k=cv2.waitKey(1)\n",
    "    if k==ord('q') or len(faces_data)==100:\n",
    "        break\n",
    "video.release()\n",
    "cv2.destroyAllWindows()\n",
    "\n",
    "faces_data=np.asarray(faces_data)\n",
    "faces_data=faces_data.reshape(100, -1)"
   ]
  },
  {
   "cell_type": "markdown",
   "id": "50f6027b",
   "metadata": {},
   "source": [
    "# Converting recorded faces dimensions in to a numpy array"
   ]
  },
  {
   "cell_type": "raw",
   "id": "f6203213",
   "metadata": {},
   "source": [
    "face_record = np.asarray(face_record)\n",
    "face_record = face_record.reshape(100, -1)"
   ]
  },
  {
   "cell_type": "markdown",
   "id": "188d6bd2",
   "metadata": {},
   "source": [
    "# creating folder inside project directory"
   ]
  },
  {
   "cell_type": "raw",
   "id": "5e7b4620",
   "metadata": {},
   "source": [
    "if 'names.pkl' not in os.listdir('data/'):\n",
    "    names = [name]*100\n",
    "    with open('data/names.pkl', 'wb') as f:\n",
    "        pickle.dump(names, f)\n",
    "else:\n",
    "    with open('data/names.pkl', 'rb') as f:\n",
    "        names = pickle.load(f)\n",
    "    names = names + [name]*100\n",
    "    with open('data/names.pkl', 'wb') as f:\n",
    "        pickle.dump(names, f)\n",
    "        \n",
    "if 'faces.pkl' not in os.listdir('data/'):\n",
    "    with open('data/faces.pkl', 'wb') as f:\n",
    "        pickle.dump(face_record, f)\n",
    "else:\n",
    "    with open('data/faces.pkl', 'rb') as f:\n",
    "        faces = pickle.load(f)\n",
    "    faces = np.append(faces, face_record)\n",
    "    with open('data/faces.pkl', 'wb') as f:\n",
    "        pickle.dump(names, f)"
   ]
  },
  {
   "cell_type": "code",
   "execution_count": 26,
   "id": "b26704dc",
   "metadata": {},
   "outputs": [],
   "source": [
    "if 'names.pkl' not in os.listdir('data/'):\n",
    "    names=[name]*100\n",
    "    with open('data/names.pkl', 'wb') as f:\n",
    "        pickle.dump(names, f)\n",
    "else:\n",
    "    with open('data/names.pkl', 'rb') as f:\n",
    "        names=pickle.load(f)\n",
    "    names=names+[name]*100\n",
    "    with open('data/names.pkl', 'wb') as f:\n",
    "        pickle.dump(names, f)\n",
    "\n",
    "if 'faces_data.pkl' not in os.listdir('data/'):\n",
    "    with open('data/faces_data.pkl', 'wb') as f:\n",
    "        pickle.dump(faces_data, f)\n",
    "else:\n",
    "    with open('data/faces_data.pkl', 'rb') as f:\n",
    "        faces=pickle.load(f)\n",
    "    faces=np.append(faces, faces_data, axis=0)\n",
    "    with open('data/faces_data.pkl', 'wb') as f:\n",
    "        pickle.dump(faces, f)"
   ]
  }
 ],
 "metadata": {
  "kernelspec": {
   "display_name": "Python 3 (ipykernel)",
   "language": "python",
   "name": "python3"
  },
  "language_info": {
   "codemirror_mode": {
    "name": "ipython",
    "version": 3
   },
   "file_extension": ".py",
   "mimetype": "text/x-python",
   "name": "python",
   "nbconvert_exporter": "python",
   "pygments_lexer": "ipython3",
   "version": "3.11.5"
  }
 },
 "nbformat": 4,
 "nbformat_minor": 5
}
